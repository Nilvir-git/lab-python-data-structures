{
 "cells": [
  {
   "cell_type": "markdown",
   "metadata": {
    "tags": []
   },
   "source": [
    "# Lab | Data Structures "
   ]
  },
  {
   "cell_type": "markdown",
   "metadata": {},
   "source": [
    "## Exercise: Managing Customer Orders\n",
    "\n",
    "As part of a business venture, you are starting an online store that sells various products. To ensure smooth operations, you need to develop a program that manages customer orders and inventory.\n",
    "\n",
    "Follow the steps below to complete the exercise:\n",
    "\n",
    "1. Define a list called `products` that contains the following items: \"t-shirt\", \"mug\", \"hat\", \"book\", \"keychain\".\n",
    "\n",
    "2. Create an empty dictionary called `inventory`.\n",
    "\n",
    "3. Ask the user to input the quantity of each product available in the inventory. Use the product names from the `products` list as keys in the `inventory` dictionary and assign the respective quantities as values.\n",
    "\n",
    "4. Create an empty set called `customer_orders`.\n",
    "\n",
    "5. Ask the user to input the name of three products that a customer wants to order (from those in the products list, meaning three products out of \"t-shirt\", \"mug\", \"hat\", \"book\" or \"keychain\". Add each product name to the `customer_orders` set.\n",
    "\n",
    "6. Print the products in the `customer_orders` set.\n",
    "\n",
    "7. Calculate the following order statistics:\n",
    "   - Total Products Ordered: The total number of products in the `customer_orders` set.\n",
    "   - Percentage of Products Ordered: The percentage of products ordered compared to the total available products.\n",
    "   \n",
    "   Store these statistics in a tuple called `order_status`.\n",
    "\n",
    "8. Print the order statistics using the following format:\n",
    "   ```\n",
    "   Order Statistics:\n",
    "   Total Products Ordered: <total_products_ordered>\n",
    "   Percentage of Products Ordered: <percentage_ordered>% \n",
    "   ```\n",
    "\n",
    "9. Update the inventory by subtracting 1 from the quantity of each product. Modify the `inventory` dictionary accordingly.\n",
    "\n",
    "10. Print the updated inventory, displaying the quantity of each product on separate lines.\n",
    "\n",
    "Solve the exercise by implementing the steps using the Python concepts of lists, dictionaries, sets, and basic input/output operations. "
   ]
  },
  {
   "cell_type": "code",
   "execution_count": 4,
   "metadata": {},
   "outputs": [
    {
     "name": "stdin",
     "output_type": "stream",
     "text": [
      "number of t-shirts available:  1\n",
      "number of mugs available:  1\n",
      "number of hats available:  1\n",
      "number of books available:  1\n",
      "number of keychains available:  1\n",
      "Enter a product from the list that you'd like to order: t-shirt, mug, hat, book, keychain;  t-shirt\n",
      "Enter a product from the list that you'd like to order: t-shirt, mug, hat, book, keychain;  mug\n",
      "Enter a product from the list that you'd like to order: t-shirt, mug, hat, book, keychain;  hat\n"
     ]
    },
    {
     "name": "stdout",
     "output_type": "stream",
     "text": [
      "{'mug', 't-shirt', 'hat'}\n",
      "Order Statistics: \n",
      "Total Products Ordered: 3\n",
      "Percentage of Products Ordered: 60.0%\n",
      "updated_inventory\n",
      "t-shirt:0\n",
      "mug:0\n",
      "hat:0\n",
      "book:1\n",
      "keychain:1\n"
     ]
    }
   ],
   "source": [
    "products = [\"t-shirt\", \"mug\", \"hat\", \"book\", \"keychain\"]\n",
    "\n",
    "inventory = {}\n",
    "\n",
    "inventory [\"t-shirt\"] = int(input(\"number of t-shirts available: \"))\n",
    "inventory [\"mug\"] = int(input(\"number of mugs available: \"))\n",
    "inventory [\"hat\"] = int(input(\"number of hats available: \"))\n",
    "inventory [\"book\"] = int(input(\"number of books available: \"))\n",
    "inventory [\"keychain\"] = int(input(\"number of keychains available: \"))\n",
    "\n",
    "customer_orders = set()\n",
    "\n",
    "order1 = input(\"Enter a product from the list that you'd like to order: t-shirt, mug, hat, book, keychain; \")\n",
    "order2 = input(\"Enter a product from the list that you'd like to order: t-shirt, mug, hat, book, keychain; \")\n",
    "order3 = input(\"Enter a product from the list that you'd like to order: t-shirt, mug, hat, book, keychain; \")\n",
    "\n",
    "customer_orders.add(order1)\n",
    "customer_orders.add(order2)\n",
    "customer_orders.add(order3)\n",
    "\n",
    "print(customer_orders)\n",
    "\n",
    "total_orders = len(customer_orders)\n",
    "\n",
    "total_inventory = sum(inventory.values())\n",
    "\n",
    "perc_prod_ordered= total_orders / total_inventory *100\n",
    "\n",
    "order_status = (total_orders, perc_prod_ordered)\n",
    "\n",
    "print(\"Order Statistics: \")\n",
    "print(f\"Total Products Ordered: {total_orders}\")\n",
    "print(f\"Percentage of Products Ordered: {perc_prod_ordered}\" \"%\")\n",
    "\n",
    "for item in customer_orders:\n",
    "    if item in inventory:\n",
    "        inventory[item] -=1\n",
    "\n",
    "print(\"updated_inventory\")\n",
    "for product in inventory:\n",
    "    print(f\"{product}:{inventory[product]}\")\n"
   ]
  },
  {
   "cell_type": "raw",
   "metadata": {},
   "source": []
  }
 ],
 "metadata": {
  "kernelspec": {
   "display_name": "Python 3 (ipykernel)",
   "language": "python",
   "name": "python3"
  },
  "language_info": {
   "codemirror_mode": {
    "name": "ipython",
    "version": 3
   },
   "file_extension": ".py",
   "mimetype": "text/x-python",
   "name": "python",
   "nbconvert_exporter": "python",
   "pygments_lexer": "ipython3",
   "version": "3.13.3"
  }
 },
 "nbformat": 4,
 "nbformat_minor": 4
}
