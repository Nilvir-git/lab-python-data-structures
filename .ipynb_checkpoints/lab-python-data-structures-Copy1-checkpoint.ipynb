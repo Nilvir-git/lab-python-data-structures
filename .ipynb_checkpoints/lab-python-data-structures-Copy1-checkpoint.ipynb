{
 "cells": [
  {
   "cell_type": "markdown",
   "metadata": {
    "tags": []
   },
   "source": [
    "# Lab | Data Structures "
   ]
  },
  {
   "cell_type": "markdown",
   "metadata": {},
   "source": [
    "## Exercise: Managing Customer Orders\n",
    "\n",
    "As part of a business venture, you are starting an online store that sells various products. To ensure smooth operations, you need to develop a program that manages customer orders and inventory.\n",
    "\n",
    "Follow the steps below to complete the exercise:\n",
    "\n",
    "1. Define a list called `products` that contains the following items: \"t-shirt\", \"mug\", \"hat\", \"book\", \"keychain\".\n",
    "\n",
    "2. Create an empty dictionary called `inventory`.\n",
    "\n",
    "3. Ask the user to input the quantity of each product available in the inventory. Use the product names from the `products` list as keys in the `inventory` dictionary and assign the respective quantities as values.\n",
    "\n",
    "4. Create an empty set called `customer_orders`.\n",
    "\n",
    "5. Ask the user to input the name of three products that a customer wants to order (from those in the products list, meaning three products out of \"t-shirt\", \"mug\", \"hat\", \"book\" or \"keychain\". Add each product name to the `customer_orders` set.\n",
    "\n",
    "6. Print the products in the `customer_orders` set.\n",
    "\n",
    "7. Calculate the following order statistics:\n",
    "   - Total Products Ordered: The total number of products in the `customer_orders` set.\n",
    "   - Percentage of Products Ordered: The percentage of products ordered compared to the total available products.\n",
    "   \n",
    "   Store these statistics in a tuple called `order_status`.\n",
    "\n",
    "8. Print the order statistics using the following format:\n",
    "   ```\n",
    "   Order Statistics:\n",
    "   Total Products Ordered: <total_products_ordered>\n",
    "   Percentage of Products Ordered: <percentage_ordered>% \n",
    "   ```\n",
    "\n",
    "9. Update the inventory by subtracting 1 from the quantity of each product. Modify the `inventory` dictionary accordingly.\n",
    "\n",
    "10. Print the updated inventory, displaying the quantity of each product on separate lines.\n",
    "\n",
    "Solve the exercise by implementing the steps using the Python concepts of lists, dictionaries, sets, and basic input/output operations. "
   ]
  },
  {
   "cell_type": "code",
   "execution_count": 3,
   "metadata": {},
   "outputs": [],
   "source": [
    "products = [\"t-shirt\", \"mug\", \"hat\", \"book\", \"keychain\"]\n",
    "\n",
    "inventory = {}"
   ]
  },
  {
   "cell_type": "code",
   "execution_count": 44,
   "metadata": {},
   "outputs": [
    {
     "name": "stdin",
     "output_type": "stream",
     "text": [
      "Enter the available number of t-shirts:  1\n",
      "Enter the available number of mugs:  1\n",
      "Enter the available number of hats:  1\n",
      "Enter the available number of books:  1\n",
      "Enter the available number of keychain:  1\n"
     ]
    }
   ],
   "source": [
    "inventory[\"t-shirt\"] = int(input(\"Enter the available number of t-shirts: \"))\n",
    "inventory[\"mug\"] = int(input(\"Enter the available number of mugs: \"))\n",
    "inventory[\"hat\"] = int(input(\"Enter the available number of hats: \"))\n",
    "inventory[\"book\"] = int(input(\"Enter the available number of books: \"))\n",
    "inventory[\"keychain\"] = int(input(\"Enter the available number of keychain: \"))\n"
   ]
  },
  {
   "cell_type": "code",
   "execution_count": 45,
   "metadata": {},
   "outputs": [
    {
     "data": {
      "text/plain": [
       "{'t-shirt': 1, 'mug': 1, 'hat': 1, 'book': 1, 'keychain': 1}"
      ]
     },
     "execution_count": 45,
     "metadata": {},
     "output_type": "execute_result"
    }
   ],
   "source": [
    "inventory"
   ]
  },
  {
   "cell_type": "code",
   "execution_count": 46,
   "metadata": {},
   "outputs": [
    {
     "name": "stdin",
     "output_type": "stream",
     "text": [
      "Enter one of the products available:  t-shirt\n",
      "Enter one of the products available:  mug\n",
      "Enter one of the products available:  hat\n"
     ]
    },
    {
     "name": "stdout",
     "output_type": "stream",
     "text": [
      "Customer Orders are: {'t-shirt', 'hat', 'mug'}\n"
     ]
    }
   ],
   "source": [
    "order1 = input(\"Enter one of the products available: \").lower()\n",
    "order2 = input(\"Enter one of the products available: \").lower()\n",
    "order3 = input(\"Enter one of the products available: \").lower()\n",
    "\n",
    "customer_orders = set()\n",
    "customer_orders.add(order1)\n",
    "customer_orders.add(order2)\n",
    "customer_orders.add(order3)\n",
    "\n",
    "print(f\"Customer Orders are: {customer_orders}\")"
   ]
  },
  {
   "cell_type": "code",
   "execution_count": 47,
   "metadata": {},
   "outputs": [],
   "source": [
    "total_products_ordered = len(customer_orders)\n",
    "\n",
    "perc_prod_ord = total_products_ordered / sum(inventory.values())*100\n",
    "\n",
    "order_status = (total_products_ordered, perc_prod_ord)"
   ]
  },
  {
   "cell_type": "code",
   "execution_count": 48,
   "metadata": {},
   "outputs": [
    {
     "name": "stdout",
     "output_type": "stream",
     "text": [
      "Order Statistics:\n",
      "Total products ordered: 3\n",
      "Percentage of Products Ordered: 60.0\n"
     ]
    }
   ],
   "source": [
    "print (\"Order Statistics:\")\n",
    "print(f\"Total products ordered: {total_products_ordered}\")\n",
    "print(f\"Percentage of Products Ordered: {perc_prod_ord}\")"
   ]
  },
  {
   "cell_type": "code",
   "execution_count": 49,
   "metadata": {},
   "outputs": [],
   "source": [
    "for elements in customer_orders:\n",
    "    if elements in inventory:\n",
    "        inventory[elements] -=1"
   ]
  },
  {
   "cell_type": "code",
   "execution_count": 50,
   "metadata": {},
   "outputs": [
    {
     "data": {
      "text/plain": [
       "{'hat', 'mug', 't-shirt'}"
      ]
     },
     "execution_count": 50,
     "metadata": {},
     "output_type": "execute_result"
    }
   ],
   "source": [
    "customer_orders"
   ]
  },
  {
   "cell_type": "code",
   "execution_count": 51,
   "metadata": {},
   "outputs": [
    {
     "data": {
      "text/plain": [
       "{'t-shirt': 0, 'mug': 0, 'hat': 0, 'book': 1, 'keychain': 1}"
      ]
     },
     "execution_count": 51,
     "metadata": {},
     "output_type": "execute_result"
    }
   ],
   "source": [
    "inventory"
   ]
  },
  {
   "cell_type": "code",
   "execution_count": 53,
   "metadata": {},
   "outputs": [
    {
     "name": "stdout",
     "output_type": "stream",
     "text": [
      "Updated inventory\n",
      "t-shirt:0\n",
      "mug:0\n",
      "hat:0\n",
      "book:1\n",
      "keychain:1\n"
     ]
    }
   ],
   "source": [
    "print(\"Updated inventory\")\n",
    "for product in inventory:\n",
    "    print(f\"{product}:{inventory[product]}\")"
   ]
  },
  {
   "cell_type": "code",
   "execution_count": null,
   "metadata": {},
   "outputs": [],
   "source": []
  }
 ],
 "metadata": {
  "kernelspec": {
   "display_name": "Python 3 (ipykernel)",
   "language": "python",
   "name": "python3"
  },
  "language_info": {
   "codemirror_mode": {
    "name": "ipython",
    "version": 3
   },
   "file_extension": ".py",
   "mimetype": "text/x-python",
   "name": "python",
   "nbconvert_exporter": "python",
   "pygments_lexer": "ipython3",
   "version": "3.13.3"
  }
 },
 "nbformat": 4,
 "nbformat_minor": 4
}
